{
 "cells": [
  {
   "cell_type": "code",
   "execution_count": 1,
   "id": "60b24f55",
   "metadata": {},
   "outputs": [],
   "source": [
    "#import os\n",
    "#import zipfile\n",
    "import pandas as pd\n",
    "import numpy as np\n",
    "from matplotlib import pyplot as plt\n",
    "from sklearn.utils import shuffle"
   ]
  },
  {
   "cell_type": "code",
   "execution_count": 7,
   "id": "4e78ddae",
   "metadata": {},
   "outputs": [],
   "source": [
    "# Load the CSV file\n",
    "file_path = 'letters_mnist.csv'\n",
    "df = pd.read_csv(file_path, header=None)"
   ]
  },
  {
   "cell_type": "code",
   "execution_count": 18,
   "id": "5130c11f",
   "metadata": {},
   "outputs": [
    {
     "name": "stdout",
     "output_type": "stream",
     "text": [
      "       label  pixel1  pixel2  pixel3  pixel4  pixel5  pixel6  pixel7  pixel8  \\\n",
      "372446     Z       0       0       0       0       0       0       0       0   \n",
      "372447     Z       0       0       0       0       0       0       0       0   \n",
      "372448     Z       0       0       0       0       0       0       0       0   \n",
      "372449     Z       0       0       0       0       0       0       0       0   \n",
      "372450     Z       0       0       0       0       0       0       0       0   \n",
      "\n",
      "        pixel9  ...  pixel775  pixel776  pixel777  pixel778  pixel779  \\\n",
      "372446       0  ...         0         0         0         0         0   \n",
      "372447       0  ...         0         0         0         0         0   \n",
      "372448       0  ...         0         0         0         0         0   \n",
      "372449       0  ...         0         0         0         0         0   \n",
      "372450       0  ...         0         0         0         0         0   \n",
      "\n",
      "        pixel780  pixel781  pixel782  pixel783  pixel784  \n",
      "372446         0         0         0         0         0  \n",
      "372447         0         0         0         0         0  \n",
      "372448         0         0         0         0         0  \n",
      "372449         0         0         0         0         0  \n",
      "372450         0         0         0         0         0  \n",
      "\n",
      "[5 rows x 785 columns]\n"
     ]
    }
   ],
   "source": [
    "print(df.tail())"
   ]
  },
  {
   "cell_type": "code",
   "execution_count": 10,
   "id": "9f49f540",
   "metadata": {},
   "outputs": [],
   "source": [
    "# Assign proper column names dynamically\n",
    "num_columns = df.shape[1]\n",
    "df.columns = ['label'] + [f'pixel{i}' for i in range(1, num_columns)]"
   ]
  },
  {
   "cell_type": "code",
   "execution_count": 27,
   "id": "fb182414",
   "metadata": {},
   "outputs": [
    {
     "name": "stdout",
     "output_type": "stream",
     "text": [
      "  label  pixel1  pixel2  pixel3  pixel4  pixel5  pixel6  pixel7  pixel8  \\\n",
      "0     A       0       0       0       0       0       0       0       0   \n",
      "\n",
      "   pixel9  \n",
      "0       0  \n"
     ]
    }
   ],
   "source": [
    "num_rows = df.shape[0]\n",
    "#print(num_rows)\n",
    "first_row_data = df.iloc[0:1,0:10]\n",
    "print(first_row_data)"
   ]
  },
  {
   "cell_type": "code",
   "execution_count": 11,
   "id": "59b02e93",
   "metadata": {},
   "outputs": [],
   "source": [
    "# Convert numerical labels in the first column to alphabetic representation\n",
    "df['label'] = df['label'].apply(lambda x: chr(int(x) + 65))"
   ]
  },
  {
   "cell_type": "code",
   "execution_count": 12,
   "id": "72efdbb2",
   "metadata": {},
   "outputs": [],
   "source": [
    "# Separate features and labels\n",
    "X = df.iloc[:, 1:].values\n",
    "y = df.iloc[:, 0].values"
   ]
  },
  {
   "cell_type": "code",
   "execution_count": 42,
   "id": "dded9eda",
   "metadata": {},
   "outputs": [
    {
     "name": "stdout",
     "output_type": "stream",
     "text": [
      "[0.         0.         0.         0.         0.         0.\n",
      " 0.         0.         0.         0.         0.         0.\n",
      " 0.         0.         0.         0.         0.         0.\n",
      " 0.         0.         0.         0.         0.         0.\n",
      " 0.         0.         0.         0.         0.         0.\n",
      " 0.         0.         0.         0.         0.         0.\n",
      " 0.         0.         0.         0.         0.         0.\n",
      " 0.         0.         0.         0.         0.         0.\n",
      " 0.         0.         0.         0.         0.         0.\n",
      " 0.         0.         0.         0.         0.         0.\n",
      " 0.         0.         0.         0.         0.         0.\n",
      " 0.         0.         0.         0.         0.         0.\n",
      " 0.         0.         0.         0.         0.         0.\n",
      " 0.         0.         0.         0.         0.         0.\n",
      " 0.         0.         0.         0.         0.         0.\n",
      " 0.         0.         0.         0.         0.         0.\n",
      " 0.         0.         0.         0.         0.         0.\n",
      " 0.         0.         0.         0.         0.         0.\n",
      " 0.         0.         0.         0.         0.         0.\n",
      " 0.         0.         0.         0.         0.         0.\n",
      " 0.         0.         0.         0.04313725 0.37254902 0.69019608\n",
      " 0.45882353 0.0745098  0.         0.         0.         0.\n",
      " 0.         0.         0.         0.         0.         0.\n",
      " 0.         0.         0.         0.         0.         0.\n",
      " 0.         0.         0.         0.         0.         0.\n",
      " 0.         0.19607843 0.70196078 1.         0.61960784 0.11372549\n",
      " 0.         0.         0.         0.         0.         0.\n",
      " 0.         0.         0.         0.         0.         0.\n",
      " 0.         0.         0.         0.         0.         0.\n",
      " 0.         0.         0.         0.         0.         0.39215686\n",
      " 0.84705882 1.         0.69411765 0.20392157 0.         0.\n",
      " 0.         0.         0.         0.         0.         0.\n",
      " 0.         0.         0.         0.         0.         0.\n",
      " 0.         0.         0.         0.         0.         0.\n",
      " 0.         0.         0.         0.58039216 0.99215686 1.\n",
      " 0.78823529 0.30980392 0.         0.         0.         0.\n",
      " 0.         0.         0.         0.         0.         0.\n",
      " 0.         0.         0.         0.         0.         0.\n",
      " 0.         0.         0.         0.         0.         0.\n",
      " 0.20784314 0.72941176 1.         1.         0.97254902 0.55686275\n",
      " 0.04313725 0.         0.         0.         0.         0.\n",
      " 0.         0.         0.         0.         0.         0.\n",
      " 0.         0.         0.         0.         0.         0.\n",
      " 0.         0.         0.         0.00392157 0.45098039 0.88235294\n",
      " 0.65098039 0.62352941 0.9254902  0.6745098  0.16078431 0.\n",
      " 0.         0.         0.         0.         0.         0.\n",
      " 0.         0.         0.         0.         0.         0.\n",
      " 0.         0.         0.         0.         0.         0.\n",
      " 0.         0.05098039 0.65882353 0.90588235 0.4        0.19215686\n",
      " 0.63921569 0.80784314 0.35294118 0.         0.         0.\n",
      " 0.         0.         0.         0.         0.         0.\n",
      " 0.         0.         0.         0.         0.         0.\n",
      " 0.         0.         0.         0.         0.         0.34901961\n",
      " 0.82352941 0.63137255 0.16862745 0.         0.38039216 0.88235294\n",
      " 0.69019608 0.15294118 0.         0.         0.         0.\n",
      " 0.         0.         0.         0.         0.         0.\n",
      " 0.         0.         0.         0.         0.         0.\n",
      " 0.         0.         0.04705882 0.62745098 0.96470588 0.41960784\n",
      " 0.00784314 0.         0.21176471 0.69019608 0.72941176 0.20784314\n",
      " 0.         0.         0.         0.         0.         0.\n",
      " 0.         0.         0.         0.         0.         0.\n",
      " 0.         0.         0.         0.         0.         0.\n",
      " 0.11764706 0.72156863 0.84313725 0.30980392 0.00392157 0.\n",
      " 0.05098039 0.47843137 0.85490196 0.45098039 0.00392157 0.\n",
      " 0.         0.         0.         0.         0.         0.\n",
      " 0.         0.         0.         0.         0.         0.\n",
      " 0.         0.         0.         0.01176471 0.45098039 0.8745098\n",
      " 0.54509804 0.11372549 0.         0.         0.         0.3254902\n",
      " 0.83921569 0.76470588 0.24313725 0.         0.         0.\n",
      " 0.         0.         0.         0.         0.         0.\n",
      " 0.         0.         0.         0.         0.         0.\n",
      " 0.         0.12156863 0.75294118 0.97254902 0.35294118 0.\n",
      " 0.         0.25490196 0.60392157 0.81568627 0.95686275 0.97647059\n",
      " 0.73333333 0.23529412 0.         0.         0.         0.\n",
      " 0.         0.         0.         0.         0.         0.\n",
      " 0.         0.         0.         0.         0.         0.29019608\n",
      " 0.81960784 1.         1.         1.         1.         1.\n",
      " 1.         0.91372549 0.88627451 1.         0.81960784 0.32156863\n",
      " 0.         0.         0.         0.         0.         0.\n",
      " 0.         0.         0.         0.         0.         0.\n",
      " 0.         0.         0.03529412 0.65490196 0.94509804 0.79215686\n",
      " 0.88627451 1.         1.         0.59607843 0.16078431 0.0627451\n",
      " 0.2        0.65098039 0.87843137 0.45882353 0.         0.\n",
      " 0.         0.         0.         0.         0.         0.\n",
      " 0.         0.         0.         0.         0.         0.\n",
      " 0.20392157 0.80784314 0.9254902  0.30196078 0.2745098  0.43921569\n",
      " 0.29803922 0.10196078 0.01568627 0.         0.         0.29411765\n",
      " 0.85098039 0.76862745 0.21960784 0.         0.         0.\n",
      " 0.         0.         0.         0.         0.         0.\n",
      " 0.         0.         0.         0.         0.55686275 0.9254902\n",
      " 0.65490196 0.16862745 0.         0.         0.         0.\n",
      " 0.         0.         0.         0.17647059 0.65098039 0.94901961\n",
      " 0.63137255 0.0627451  0.         0.         0.         0.\n",
      " 0.         0.         0.         0.         0.         0.\n",
      " 0.         0.23529412 0.84313725 0.80392157 0.21960784 0.\n",
      " 0.         0.         0.         0.         0.         0.\n",
      " 0.         0.         0.22352941 0.76862745 0.91764706 0.52941176\n",
      " 0.         0.         0.         0.         0.         0.\n",
      " 0.         0.         0.         0.         0.         0.55294118\n",
      " 0.92941176 0.47058824 0.08627451 0.         0.         0.\n",
      " 0.         0.         0.         0.         0.         0.\n",
      " 0.03921569 0.35294118 0.93333333 0.87843137 0.37254902 0.\n",
      " 0.         0.         0.         0.         0.         0.\n",
      " 0.         0.         0.         0.52941176 0.85098039 0.32156863\n",
      " 0.03529412 0.         0.         0.         0.         0.\n",
      " 0.         0.         0.         0.         0.         0.16078431\n",
      " 0.6627451  0.98431373 0.76470588 0.         0.         0.\n",
      " 0.         0.         0.         0.         0.         0.\n",
      " 0.         0.         0.         0.         0.         0.\n",
      " 0.         0.         0.         0.         0.         0.\n",
      " 0.         0.         0.         0.10196078 0.48235294 0.81176471\n",
      " 0.49803922 0.         0.         0.         0.         0.\n",
      " 0.         0.         0.         0.         0.         0.\n",
      " 0.         0.         0.         0.         0.         0.\n",
      " 0.         0.         0.         0.         0.         0.\n",
      " 0.         0.         0.         0.         0.         0.\n",
      " 0.         0.         0.         0.         0.         0.\n",
      " 0.         0.         0.         0.         0.         0.\n",
      " 0.         0.         0.         0.         0.         0.\n",
      " 0.         0.         0.         0.         0.         0.\n",
      " 0.         0.         0.         0.         0.         0.\n",
      " 0.         0.         0.         0.         0.         0.\n",
      " 0.         0.         0.         0.         0.         0.\n",
      " 0.         0.         0.         0.         0.         0.\n",
      " 0.         0.         0.         0.         0.         0.\n",
      " 0.         0.         0.         0.         0.         0.\n",
      " 0.         0.         0.         0.         0.         0.\n",
      " 0.         0.         0.         0.         0.         0.\n",
      " 0.         0.         0.         0.         0.         0.\n",
      " 0.         0.         0.         0.         0.         0.\n",
      " 0.         0.         0.         0.        ]\n"
     ]
    }
   ],
   "source": [
    "print(X[25])"
   ]
  },
  {
   "cell_type": "code",
   "execution_count": 43,
   "id": "849d3d10",
   "metadata": {},
   "outputs": [],
   "source": [
    "\n",
    "def one_hot_encode(labels, num_classes):\n",
    "    one_hot = np.zeros((len(labels), num_classes))\n",
    "    for i, label in enumerate(labels):\n",
    "        one_hot[i, ord(label) - 65] = 1\n",
    "    return one_hot"
   ]
  },
  {
   "cell_type": "code",
   "execution_count": 44,
   "id": "a511b7dc",
   "metadata": {},
   "outputs": [],
   "source": [
    "num_classes = 26\n",
    "Y = one_hot_encode(y, num_classes)"
   ]
  },
  {
   "cell_type": "code",
   "execution_count": 45,
   "id": "2b7579f5",
   "metadata": {},
   "outputs": [],
   "source": [
    "\n",
    "# Normalize the feature data\n",
    "X = X / 255.0"
   ]
  },
  {
   "cell_type": "code",
   "execution_count": 46,
   "id": "cb67e561",
   "metadata": {},
   "outputs": [],
   "source": [
    "# Shuffle the data\n",
    "X, Y = shuffle(X, Y, random_state=0)"
   ]
  },
  {
   "cell_type": "code",
   "execution_count": 47,
   "id": "ec320e61",
   "metadata": {},
   "outputs": [],
   "source": [
    "# Split the data into training and test sets\n",
    "split_idx = int(0.8 * X.shape[1])\n",
    "X_train, X_test = X[:, :split_idx], X[:, split_idx:]\n",
    "Y_train, Y_test = Y[:, :split_idx], Y[:, split_idx:]"
   ]
  },
  {
   "cell_type": "code",
   "execution_count": 48,
   "id": "7ea8606a",
   "metadata": {},
   "outputs": [],
   "source": [
    "#Function to display images and predictions\n",
    "def display_images_with_predictions(X, Y, predictions, num_images=6):\n",
    "    indices = np.random.choice(X.shape[1], num_images, replace=False)\n",
    "    fig, axes = plt.subplots(1, num_images, figsize=(12, 3))\n",
    "    for i, idx in enumerate(indices):\n",
    "        axes[i].imshow(X[:, idx].reshape(28, 28), cmap='gray')\n",
    "        axes[i].set_title(f\"Prediction: {predictions[idx]} / Label: {np.argmax(Y[:, idx])}\")\n",
    "        axes[i].axis('off')\n",
    "    plt.tight_layout()\n",
    "    plt.show()"
   ]
  },
  {
   "cell_type": "code",
   "execution_count": 49,
   "id": "f3441ca0",
   "metadata": {},
   "outputs": [],
   "source": [
    "#Function to plot val_loss and val_acc\n",
    "def plot_training_curves(train_losses, val_losses, val_accuracies):\n",
    "    plt.figure(figsize=(12, 5))\n",
    "    plt.subplot(1, 2, 1)\n",
    "    plt.plot(range(1, len(train_losses) + 1), train_losses, label='Training Loss')\n",
    "    plt.plot(range(1, len(val_losses) + 1), val_losses, label='Validation Loss')\n",
    "    plt.xlabel('Epoch')\n",
    "    plt.ylabel('Loss')\n",
    "    plt.title('Training and Validation Loss')\n",
    "    plt.legend()\n",
    "\n",
    "    plt.subplot(1, 2, 2)\n",
    "    plt.plot(range(1, len(val_accuracies) + 1), val_accuracies, label='Validation Accuracy')\n",
    "    plt.xlabel('Epoch')\n",
    "    plt.ylabel('Accuracy')\n",
    "    plt.title('Validation Accuracy')\n",
    "    plt.legend()\n",
    "\n",
    "    plt.tight_layout()\n",
    "    plt.show()"
   ]
  },
  {
   "cell_type": "code",
   "execution_count": 72,
   "id": "45f68f10",
   "metadata": {},
   "outputs": [],
   "source": [
    "#A simple framework like TensorFlow\n",
    "\n",
    "class DenseLayer:\n",
    "    def __init__(self, input_size, output_size, activation=None):\n",
    "        self.W = np.random.randn(output_size, input_size) * 0.01\n",
    "        self.b = np.zeros((output_size, 1))\n",
    "        self.activation = activation\n",
    "\n",
    "    def forward(self, X):\n",
    "        self.Z = np.dot(self.W, X) + self.b\n",
    "        if self.activation == 'relu':\n",
    "            self.A = np.maximum(0, self.Z)\n",
    "        elif self.activation == 'softmax':\n",
    "            expZ = np.exp(self.Z - np.max(self.Z, axis=0, keepdims=True))\n",
    "            self.A = expZ / np.sum(expZ, axis=0, keepdims=True)\n",
    "        else:\n",
    "            self.A = self.Z\n",
    "        return self.A\n",
    "\n",
    "    def backward(self, dA):\n",
    "        m = dA.shape[1]\n",
    "        if self.activation == 'relu':\n",
    "            dZ = dA * (self.Z > 0)\n",
    "        elif self.activation == 'softmax':\n",
    "            dZ = dA  # assuming dA is the gradient of loss wrt softmax output\n",
    "        else:\n",
    "            dZ = dA\n",
    "        self.dW = (1 / m) * np.dot(dZ, self.A_prev.T)\n",
    "        self.db = (1 / m) * np.sum(dZ, axis=1, keepdims=True)\n",
    "        dA_prev = np.dot(self.W.T, dZ)\n",
    "        return dA_prev\n",
    "\n",
    "    def update_params(self, learning_rate):\n",
    "        self.W -= learning_rate * self.dW\n",
    "        self.b -= learning_rate * self.db\n",
    "\n",
    "class SimpleNN:\n",
    "    def __init__(self):\n",
    "        self.layers = []\n",
    "\n",
    "    def add(self, layer):\n",
    "        self.layers.append(layer)\n",
    "\n",
    "    def compile(self, optimizer, loss, metrics):\n",
    "        self.optimizer = optimizer\n",
    "        self.loss = loss\n",
    "        self.metrics = metrics\n",
    "\n",
    "    def forward_prop(self, X):\n",
    "        A = X\n",
    "        for layer in self.layers:\n",
    "            layer.A_prev = A\n",
    "            A = layer.forward(A)\n",
    "        return A\n",
    "\n",
    "    def compute_loss(self, AL, Y):\n",
    "        m = Y.shape[1]\n",
    "        if self.loss == 'categorical_crossentropy':\n",
    "            loss = -np.sum(Y * np.log(AL)) / m\n",
    "        return loss\n",
    "\n",
    "    def backward_prop(self, AL, Y):\n",
    "        dA = AL - Y\n",
    "        for layer in reversed(self.layers):\n",
    "            dA = layer.backward(dA)\n",
    "\n",
    "    def update_params(self, learning_rate):\n",
    "        for layer in self.layers:\n",
    "            layer.update_params(learning_rate)\n",
    "\n",
    "    def fit(self, X, Y, epochs, batch_size, validation_split=0, shuffle_data=True):\n",
    "        if shuffle_data:\n",
    "            #X, Y = shuffle(X.T, Y.T)\n",
    "            X, Y = X.T, Y.T\n",
    "\n",
    "        train_losses = []\n",
    "        val_losses = []\n",
    "        val_accuracies = []\n",
    "\n",
    "        if validation_split > 0:\n",
    "            split_idx = int(X.shape[1] * (1 - validation_split))\n",
    "            X_train, X_val = X[:, :split_idx], X[:, split_idx:]\n",
    "            Y_train, Y_val = Y[:, :split_idx], Y[:, split_idx:]\n",
    "        else:\n",
    "            X_train, Y_train = X, Y\n",
    "\n",
    "        for epoch in range(epochs):\n",
    "            for i in range(0, X_train.shape[1], batch_size):\n",
    "                X_batch = X_train[:, i:i+batch_size]\n",
    "                Y_batch = Y_train[:, i:i+batch_size]\n",
    "                AL = self.forward_prop(X_batch)\n",
    "                self.backward_prop(AL, Y_batch)\n",
    "                self.update_params(learning_rate=0.01)\n",
    "\n",
    "            if validation_split > 0:\n",
    "                val_AL = self.forward_prop(X_val)\n",
    "                val_loss = self.compute_loss(val_AL, Y_val)\n",
    "                val_acc = self.evaluate(X_val, Y_val)[1]\n",
    "                print(f\"Epoch {epoch+1}/{epochs} - val_loss: {val_loss:.4f} - val_acc: {val_acc*100:.2f}%\")\n",
    "                \n",
    "                train_AL = self.forward_prop(X_train)\n",
    "                train_loss = self.compute_loss(train_AL, Y_train)\n",
    "                train_acc = self.evaluate(X_train, Y_train)[1]\n",
    "\n",
    "                train_losses.append(train_loss)\n",
    "                val_losses.append(val_loss)\n",
    "                val_accuracies.append(val_acc)\n",
    "\n",
    "            else:\n",
    "                train_AL = self.forward_prop(X_train)\n",
    "                train_loss = self.compute_loss(train_AL, Y_train)\n",
    "                train_acc = self.evaluate(X_train, Y_train)[1]\n",
    "                print(f\"Epoch {epoch+1}/{epochs} - train_loss: {train_loss:.4f} - train_acc: {train_acc*100:.2f}%\")\n",
    "                \n",
    "                train_losses.append(train_loss)\n",
    "\n",
    "        return train_losses, val_losses, val_accuracies\n",
    "\n",
    "    def evaluate(self, X, Y):\n",
    "        AL = self.forward_prop(X)\n",
    "        loss = self.compute_loss(AL, Y)\n",
    "        predictions = np.argmax(AL, axis=0)\n",
    "        labels = np.argmax(Y, axis=0)\n",
    "        accuracy = np.mean(predictions == labels)\n",
    "        return loss, accuracy\n",
    "\n",
    "    def predict(self, X):\n",
    "        AL = self.forward_prop(X)\n",
    "        predictions = np.argmax(AL, axis=0)\n",
    "        return predictions"
   ]
  },
  {
   "cell_type": "code",
   "execution_count": 73,
   "id": "ae2644f7",
   "metadata": {},
   "outputs": [],
   "source": [
    "#Creating the model\n",
    "nn = SimpleNN()\n",
    "nn.add(DenseLayer(627, 128, activation='relu'))\n",
    "nn.add(DenseLayer(128, 64, activation='relu'))\n",
    "nn.add(DenseLayer(64, 26, activation='softmax'))"
   ]
  },
  {
   "cell_type": "code",
   "execution_count": 74,
   "id": "5b1f3a51",
   "metadata": {},
   "outputs": [],
   "source": [
    "#Compliling the model\n",
    "nn.compile(optimizer='adam', loss='categorical_crossentropy', metrics=['accuracy'])"
   ]
  },
  {
   "cell_type": "code",
   "execution_count": 75,
   "id": "baec3396",
   "metadata": {},
   "outputs": [
    {
     "name": "stdout",
     "output_type": "stream",
     "text": [
      "Epoch 1/50 - val_loss: 2.9401 - val_acc: 15.37%\n",
      "Epoch 2/50 - val_loss: 2.9308 - val_acc: 15.37%\n",
      "Epoch 3/50 - val_loss: 2.9289 - val_acc: 15.37%\n"
     ]
    },
    {
     "ename": "KeyboardInterrupt",
     "evalue": "",
     "output_type": "error",
     "traceback": [
      "\u001b[1;31m---------------------------------------------------------------------------\u001b[0m",
      "\u001b[1;31mKeyboardInterrupt\u001b[0m                         Traceback (most recent call last)",
      "Cell \u001b[1;32mIn[75], line 2\u001b[0m\n\u001b[0;32m      1\u001b[0m \u001b[38;5;66;03m#fitting the model\u001b[39;00m\n\u001b[1;32m----> 2\u001b[0m train_losses, val_losses, val_accuracies \u001b[38;5;241m=\u001b[39m \u001b[43mnn\u001b[49m\u001b[38;5;241;43m.\u001b[39;49m\u001b[43mfit\u001b[49m\u001b[43m(\u001b[49m\u001b[43mX_train\u001b[49m\u001b[43m,\u001b[49m\u001b[43m \u001b[49m\u001b[43mY_train\u001b[49m\u001b[43m,\u001b[49m\u001b[43m \u001b[49m\u001b[43mepochs\u001b[49m\u001b[38;5;241;43m=\u001b[39;49m\u001b[38;5;241;43m50\u001b[39;49m\u001b[43m,\u001b[49m\u001b[43m \u001b[49m\u001b[43mbatch_size\u001b[49m\u001b[38;5;241;43m=\u001b[39;49m\u001b[38;5;241;43m64\u001b[39;49m\u001b[43m,\u001b[49m\u001b[43m \u001b[49m\u001b[43mvalidation_split\u001b[49m\u001b[38;5;241;43m=\u001b[39;49m\u001b[38;5;241;43m0.2\u001b[39;49m\u001b[43m,\u001b[49m\u001b[43m \u001b[49m\u001b[43mshuffle_data\u001b[49m\u001b[38;5;241;43m=\u001b[39;49m\u001b[38;5;28;43;01mTrue\u001b[39;49;00m\u001b[43m)\u001b[49m\n\u001b[0;32m      4\u001b[0m test_loss, test_acc \u001b[38;5;241m=\u001b[39m nn\u001b[38;5;241m.\u001b[39mevaluate(X_test, Y_test)\n\u001b[0;32m      5\u001b[0m \u001b[38;5;28mprint\u001b[39m(\u001b[38;5;124mf\u001b[39m\u001b[38;5;124m'\u001b[39m\u001b[38;5;124mTest accuracy: \u001b[39m\u001b[38;5;132;01m{\u001b[39;00mtest_acc\u001b[38;5;241m*\u001b[39m\u001b[38;5;241m100\u001b[39m\u001b[38;5;132;01m:\u001b[39;00m\u001b[38;5;124m.2f\u001b[39m\u001b[38;5;132;01m}\u001b[39;00m\u001b[38;5;124m%\u001b[39m\u001b[38;5;124m'\u001b[39m)\n",
      "Cell \u001b[1;32mIn[72], line 92\u001b[0m, in \u001b[0;36mSimpleNN.fit\u001b[1;34m(self, X, Y, epochs, batch_size, validation_split, shuffle_data)\u001b[0m\n\u001b[0;32m     90\u001b[0m     Y_batch \u001b[38;5;241m=\u001b[39m Y_train[:, i:i\u001b[38;5;241m+\u001b[39mbatch_size]\n\u001b[0;32m     91\u001b[0m     AL \u001b[38;5;241m=\u001b[39m \u001b[38;5;28mself\u001b[39m\u001b[38;5;241m.\u001b[39mforward_prop(X_batch)\n\u001b[1;32m---> 92\u001b[0m     \u001b[38;5;28;43mself\u001b[39;49m\u001b[38;5;241;43m.\u001b[39;49m\u001b[43mbackward_prop\u001b[49m\u001b[43m(\u001b[49m\u001b[43mAL\u001b[49m\u001b[43m,\u001b[49m\u001b[43m \u001b[49m\u001b[43mY_batch\u001b[49m\u001b[43m)\u001b[49m\n\u001b[0;32m     93\u001b[0m     \u001b[38;5;28mself\u001b[39m\u001b[38;5;241m.\u001b[39mupdate_params(learning_rate\u001b[38;5;241m=\u001b[39m\u001b[38;5;241m0.01\u001b[39m)\n\u001b[0;32m     95\u001b[0m \u001b[38;5;28;01mif\u001b[39;00m validation_split \u001b[38;5;241m>\u001b[39m \u001b[38;5;241m0\u001b[39m:\n",
      "Cell \u001b[1;32mIn[72], line 65\u001b[0m, in \u001b[0;36mSimpleNN.backward_prop\u001b[1;34m(self, AL, Y)\u001b[0m\n\u001b[0;32m     63\u001b[0m dA \u001b[38;5;241m=\u001b[39m AL \u001b[38;5;241m-\u001b[39m Y\n\u001b[0;32m     64\u001b[0m \u001b[38;5;28;01mfor\u001b[39;00m layer \u001b[38;5;129;01min\u001b[39;00m \u001b[38;5;28mreversed\u001b[39m(\u001b[38;5;28mself\u001b[39m\u001b[38;5;241m.\u001b[39mlayers):\n\u001b[1;32m---> 65\u001b[0m     dA \u001b[38;5;241m=\u001b[39m \u001b[43mlayer\u001b[49m\u001b[38;5;241;43m.\u001b[39;49m\u001b[43mbackward\u001b[49m\u001b[43m(\u001b[49m\u001b[43mdA\u001b[49m\u001b[43m)\u001b[49m\n",
      "Cell \u001b[1;32mIn[72], line 29\u001b[0m, in \u001b[0;36mDenseLayer.backward\u001b[1;34m(self, dA)\u001b[0m\n\u001b[0;32m     27\u001b[0m     dZ \u001b[38;5;241m=\u001b[39m dA\n\u001b[0;32m     28\u001b[0m \u001b[38;5;28mself\u001b[39m\u001b[38;5;241m.\u001b[39mdW \u001b[38;5;241m=\u001b[39m (\u001b[38;5;241m1\u001b[39m \u001b[38;5;241m/\u001b[39m m) \u001b[38;5;241m*\u001b[39m np\u001b[38;5;241m.\u001b[39mdot(dZ, \u001b[38;5;28mself\u001b[39m\u001b[38;5;241m.\u001b[39mA_prev\u001b[38;5;241m.\u001b[39mT)\n\u001b[1;32m---> 29\u001b[0m \u001b[38;5;28mself\u001b[39m\u001b[38;5;241m.\u001b[39mdb \u001b[38;5;241m=\u001b[39m (\u001b[38;5;241m1\u001b[39m \u001b[38;5;241m/\u001b[39m m) \u001b[38;5;241m*\u001b[39m \u001b[43mnp\u001b[49m\u001b[38;5;241;43m.\u001b[39;49m\u001b[43msum\u001b[49m\u001b[43m(\u001b[49m\u001b[43mdZ\u001b[49m\u001b[43m,\u001b[49m\u001b[43m \u001b[49m\u001b[43maxis\u001b[49m\u001b[38;5;241;43m=\u001b[39;49m\u001b[38;5;241;43m1\u001b[39;49m\u001b[43m,\u001b[49m\u001b[43m \u001b[49m\u001b[43mkeepdims\u001b[49m\u001b[38;5;241;43m=\u001b[39;49m\u001b[38;5;28;43;01mTrue\u001b[39;49;00m\u001b[43m)\u001b[49m\n\u001b[0;32m     30\u001b[0m dA_prev \u001b[38;5;241m=\u001b[39m np\u001b[38;5;241m.\u001b[39mdot(\u001b[38;5;28mself\u001b[39m\u001b[38;5;241m.\u001b[39mW\u001b[38;5;241m.\u001b[39mT, dZ)\n\u001b[0;32m     31\u001b[0m \u001b[38;5;28;01mreturn\u001b[39;00m dA_prev\n",
      "File \u001b[1;32mc:\\Users\\DELL\\AppData\\Local\\Programs\\Python\\Python312\\Lib\\site-packages\\numpy\\core\\fromnumeric.py:2172\u001b[0m, in \u001b[0;36m_sum_dispatcher\u001b[1;34m(a, axis, dtype, out, keepdims, initial, where)\u001b[0m\n\u001b[0;32m   2102\u001b[0m \u001b[38;5;250m    \u001b[39m\u001b[38;5;124;03m\"\"\"\u001b[39;00m\n\u001b[0;32m   2103\u001b[0m \u001b[38;5;124;03m    Clip (limit) the values in an array.\u001b[39;00m\n\u001b[0;32m   2104\u001b[0m \n\u001b[1;32m   (...)\u001b[0m\n\u001b[0;32m   2167\u001b[0m \n\u001b[0;32m   2168\u001b[0m \u001b[38;5;124;03m    \"\"\"\u001b[39;00m\n\u001b[0;32m   2169\u001b[0m     \u001b[38;5;28;01mreturn\u001b[39;00m _wrapfunc(a, \u001b[38;5;124m'\u001b[39m\u001b[38;5;124mclip\u001b[39m\u001b[38;5;124m'\u001b[39m, a_min, a_max, out\u001b[38;5;241m=\u001b[39mout, \u001b[38;5;241m*\u001b[39m\u001b[38;5;241m*\u001b[39mkwargs)\n\u001b[1;32m-> 2172\u001b[0m \u001b[38;5;28;01mdef\u001b[39;00m \u001b[38;5;21m_sum_dispatcher\u001b[39m(a, axis\u001b[38;5;241m=\u001b[39m\u001b[38;5;28;01mNone\u001b[39;00m, dtype\u001b[38;5;241m=\u001b[39m\u001b[38;5;28;01mNone\u001b[39;00m, out\u001b[38;5;241m=\u001b[39m\u001b[38;5;28;01mNone\u001b[39;00m, keepdims\u001b[38;5;241m=\u001b[39m\u001b[38;5;28;01mNone\u001b[39;00m,\n\u001b[0;32m   2173\u001b[0m                     initial\u001b[38;5;241m=\u001b[39m\u001b[38;5;28;01mNone\u001b[39;00m, where\u001b[38;5;241m=\u001b[39m\u001b[38;5;28;01mNone\u001b[39;00m):\n\u001b[0;32m   2174\u001b[0m     \u001b[38;5;28;01mreturn\u001b[39;00m (a, out)\n\u001b[0;32m   2177\u001b[0m \u001b[38;5;129m@array_function_dispatch\u001b[39m(_sum_dispatcher)\n\u001b[0;32m   2178\u001b[0m \u001b[38;5;28;01mdef\u001b[39;00m \u001b[38;5;21msum\u001b[39m(a, axis\u001b[38;5;241m=\u001b[39m\u001b[38;5;28;01mNone\u001b[39;00m, dtype\u001b[38;5;241m=\u001b[39m\u001b[38;5;28;01mNone\u001b[39;00m, out\u001b[38;5;241m=\u001b[39m\u001b[38;5;28;01mNone\u001b[39;00m, keepdims\u001b[38;5;241m=\u001b[39mnp\u001b[38;5;241m.\u001b[39m_NoValue,\n\u001b[0;32m   2179\u001b[0m         initial\u001b[38;5;241m=\u001b[39mnp\u001b[38;5;241m.\u001b[39m_NoValue, where\u001b[38;5;241m=\u001b[39mnp\u001b[38;5;241m.\u001b[39m_NoValue):\n",
      "\u001b[1;31mKeyboardInterrupt\u001b[0m: "
     ]
    }
   ],
   "source": [
    "#fitting the model\n",
    "train_losses, val_losses, val_accuracies = nn.fit(X_train, Y_train, epochs=50, batch_size=64, validation_split=0.2, shuffle_data=True)\n",
    "\n",
    "test_loss, test_acc = nn.evaluate(X_test, Y_test)\n",
    "print(f'Test accuracy: {test_acc*100:.2f}%')"
   ]
  },
  {
   "cell_type": "code",
   "execution_count": 57,
   "id": "33842e7b",
   "metadata": {},
   "outputs": [
    {
     "name": "stdout",
     "output_type": "stream",
     "text": [
      "Shape of X_train: (372451, 627)\n",
      "Shape of Y_train: (372451, 26)\n"
     ]
    }
   ],
   "source": [
    "print(\"Shape of X_train:\", X_train.shape)\n",
    "print(\"Shape of Y_train:\", Y_train.shape)"
   ]
  },
  {
   "cell_type": "code",
   "execution_count": 16,
   "id": "4309b8e4",
   "metadata": {},
   "outputs": [],
   "source": [
    "predictions = nn.predict(X_test)"
   ]
  },
  {
   "cell_type": "code",
   "execution_count": 17,
   "id": "b2a5e468",
   "metadata": {},
   "outputs": [
    {
     "data": {
      "image/png": "[encoded data removed]",
      "text/plain": [
       "<Figure size 1200x300 with 6 Axes>"
      ]
     },
     "metadata": {},
     "output_type": "display_data"
    }
   ],
   "source": [
    "#Displaying random images with their predictions\n",
    "display_images_with_predictions(X_test, Y_test, predictions)"
   ]
  },
  {
   "cell_type": "code",
   "execution_count": 18,
   "id": "a19de045",
   "metadata": {},
   "outputs": [
    {
     "data": {
      "image/png": "[encoded data removed]",
      "text/plain": [
       "<Figure size 1200x500 with 2 Axes>"
      ]
     },
     "metadata": {},
     "output_type": "display_data"
    }
   ],
   "source": [
    "#Ploting the train curves\n",
    "plot_training_curves(train_losses, val_losses, val_accuracies)"
   ]
  }
 ],
 "metadata": {
  "kernelspec": {
   "display_name": "Python 3 (ipykernel)",
   "language": "python",
   "name": "python3"
  },
  "language_info": {
   "codemirror_mode": {
    "name": "ipython",
    "version": 3
   },
   "file_extension": ".py",
   "mimetype": "text/x-python",
   "name": "python",
   "nbconvert_exporter": "python",
   "pygments_lexer": "ipython3",
   "version": "3.12.1"
  }
 },
 "nbformat": 4,
 "nbformat_minor": 5
}
